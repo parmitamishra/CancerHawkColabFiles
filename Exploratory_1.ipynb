{
  "nbformat": 4,
  "nbformat_minor": 0,
  "metadata": {
    "colab": {
      "provenance": [],
      "authorship_tag": "ABX9TyNLLUdNasehkiuzfTu9iRWz",
      "include_colab_link": true
    },
    "kernelspec": {
      "name": "python3",
      "display_name": "Python 3"
    },
    "language_info": {
      "name": "python"
    }
  },
  "cells": [
    {
      "cell_type": "markdown",
      "metadata": {
        "id": "view-in-github",
        "colab_type": "text"
      },
      "source": [
        "<a href=\"https://colab.research.google.com/github/parmitamishra/CancerHawkColabFiles/blob/main/Exploratory_1.ipynb\" target=\"_parent\"><img src=\"https://colab.research.google.com/assets/colab-badge.svg\" alt=\"Open In Colab\"/></a>"
      ]
    },
    {
      "cell_type": "code",
      "execution_count": 1,
      "metadata": {
        "id": "6e9ShIiaHOq0"
      },
      "outputs": [],
      "source": [
        "import pandas as pd\n",
        "import numpy as np\n",
        "import matplotlib.pyplot as plt\n",
        "import seaborn as sns\n",
        "import warnings\n",
        "warnings.filterwarnings('ignore')\n"
      ]
    },
    {
      "cell_type": "markdown",
      "source": [
        "# Querying Metadata\n",
        "Python can be used with the GDC API to retrieve metadata that is indexed in the GDC Database."
      ],
      "metadata": {
        "id": "qI7aOLK7K23O"
      }
    },
    {
      "cell_type": "markdown",
      "source": [
        "example: passes some basic parameters (fields, format, size) to the cases endpoint and prints the results in a tab-delimited format."
      ],
      "metadata": {
        "id": "wirXlcEXK_Jq"
      }
    },
    {
      "cell_type": "code",
      "source": [
        "import requests\n",
        "import json\n",
        "#passes some basic parameters (fields, format, size) to the cases endpoint\n",
        "#and prints the results in a tab-delimited format\n",
        "#fields parameter needs to be a string comprising comma-delimited field names.\n",
        "\n",
        "\n",
        "cases_endpt = 'https://api.gdc.cancer.gov/cases'\n",
        "\n",
        "# The 'fields' parameter is passed as a comma-separated string of single names.\n",
        "fields = [\n",
        "    \"submitter_id\",\n",
        "    \"case_id\",\n",
        "    \"primary_site\",\n",
        "    \"disease_type\",\n",
        "    \"diagnoses.vital_status\"\n",
        "    ]\n",
        "\n",
        "fields = ','.join(fields)\n",
        "\n",
        "params = {\n",
        "    \"fields\": fields,\n",
        "    \"format\": \"TSV\",\n",
        "    \"size\": \"100\"\n",
        "    }\n",
        "\n",
        "response = requests.get(cases_endpt, params = params)\n",
        "\n",
        "print(response.content)\n",
        "\n",
        "\n"
      ],
      "metadata": {
        "colab": {
          "base_uri": "https://localhost:8080/"
        },
        "id": "Awf2n8haKaAd",
        "outputId": "c647ca0d-3ac5-4b4d-f958-e3b392509501"
      },
      "execution_count": 2,
      "outputs": [
        {
          "output_type": "stream",
          "name": "stdout",
          "text": [
            "b'case_id\\tdisease_type\\tid\\tprimary_site\\tsubmitter_id\\r\\n69eced5b-1e76-45c9-bc9c-2aa71a921c57\\tGliomas\\t69eced5b-1e76-45c9-bc9c-2aa71a921c57\\tBrain\\tHCM-BROD-0011-C71\\r\\ne3b32485-b204-43a7-93a5-601408fcdf96\\tDuctal and Lobular Neoplasms\\te3b32485-b204-43a7-93a5-601408fcdf96\\tPancreas\\tHCM-CSHL-0074-C25\\r\\n4829dd8c-5445-41b3-ae37-bbcc333e8c9e\\tAdenomas and Adenocarcinomas\\t4829dd8c-5445-41b3-ae37-bbcc333e8c9e\\tRectum\\tHCM-BROD-0001-C18\\r\\nd420e653-3fb2-432b-9e81-81232a80264d\\tGliomas\\td420e653-3fb2-432b-9e81-81232a80264d\\tBrain\\tHCM-BROD-0210-C71\\r\\nbfe15f44-e1dd-46ed-b429-908822d0a781\\tAdenomas and Adenocarcinomas\\tbfe15f44-e1dd-46ed-b429-908822d0a781\\tColon\\tHCM-CSHL-0056-C18\\r\\n8b3b1f24-419e-4043-82be-2bd41268bb0e\\tAdenomas and Adenocarcinomas\\t8b3b1f24-419e-4043-82be-2bd41268bb0e\\tRectum\\tHCM-CSHL-0062-C18\\r\\n7717ccee-02fc-42aa-9951-e28ecb689ed5\\tAdenomas and Adenocarcinomas\\t7717ccee-02fc-42aa-9951-e28ecb689ed5\\tRectum\\tHCM-SANG-0266-C20\\r\\nf6824107-f92f-47fc-930a-cbe3bfe58895\\tDuctal and Lobular Neoplasms\\tf6824107-f92f-47fc-930a-cbe3bfe58895\\tPancreas\\tHCM-CSHL-0182-C25\\r\\nfa30fc7f-90b6-4ca0-93b6-1351eae9dfc8\\tSoft Tissue Tumors and Sarcomas, NOS\\tfa30fc7f-90b6-4ca0-93b6-1351eae9dfc8\\tBones, joints and articular cartilage of other and unspecified sites\\tHCM-BROD-0035-C49\\r\\n9d03a2ac-ff8d-4017-b482-ece0c9eec5ed\\tDuctal and Lobular Neoplasms\\t9d03a2ac-ff8d-4017-b482-ece0c9eec5ed\\tPancreas\\tHCM-CSHL-0075-C25\\r\\n164eeaa7-4229-493f-ae77-0843f36af6b8\\tAdenomas and Adenocarcinomas\\t164eeaa7-4229-493f-ae77-0843f36af6b8\\tPancreas\\tHCM-BROD-0111-C25\\r\\n47322ea3-6bbe-442b-a656-c48469cc99c1\\tNevi and Melanomas\\t47322ea3-6bbe-442b-a656-c48469cc99c1\\tSkin\\tHCM-BROD-0335-C43\\r\\n149a8565-e0c5-4474-a693-d44f1b445c0c\\tGliomas\\t149a8565-e0c5-4474-a693-d44f1b445c0c\\tBrain\\tHCM-BROD-0199-C71\\r\\n5c5ef9c4-5896-4553-bbbd-afe4e4b52a6a\\tGliomas\\t5c5ef9c4-5896-4553-bbbd-afe4e4b52a6a\\tBrain\\tHCM-BROD-0214-C71\\r\\n3d06ca77-a9a1-4e52-9b3d-a6f4f98167d6\\tSoft Tissue Tumors and Sarcomas, NOS\\t3d06ca77-a9a1-4e52-9b3d-a6f4f98167d6\\tConnective, subcutaneous and other soft tissues\\tHCM-BROD-0052-C49\\r\\n2c636721-d11e-463e-8f77-a23501dd3d60\\tGliomas\\t2c636721-d11e-463e-8f77-a23501dd3d60\\tBrain\\tHCM-BROD-0209-C71\\r\\nf8825237-31c7-4b78-8743-efb0bd917688\\tAdenomas and Adenocarcinomas\\tf8825237-31c7-4b78-8743-efb0bd917688\\tEsophagus\\tHCM-SANG-0308-C15\\r\\n6380f4ca-f7ca-41ee-90ed-54403bed84f6\\tAdenomas and Adenocarcinomas\\t6380f4ca-f7ca-41ee-90ed-54403bed84f6\\tSmall intestine\\tHCM-CSHL-0510-D13\\r\\nc39349d1-2cde-48d8-8a20-4ec319edd0d7\\tAdenomas and Adenocarcinomas\\tc39349d1-2cde-48d8-8a20-4ec319edd0d7\\tColon\\tHCM-SANG-0276-C18\\r\\n9f4d0076-c4a2-46d4-879f-896946338c09\\tSoft Tissue Tumors and Sarcomas, NOS\\t9f4d0076-c4a2-46d4-879f-896946338c09\\tSkin\\tHCM-BROD-0234-C49\\r\\ne00914a1-997e-44ba-9c88-a5e8741b4ee1\\tAdenomas and Adenocarcinomas\\te00914a1-997e-44ba-9c88-a5e8741b4ee1\\tEsophagus\\tHCM-BROD-0100-C15\\r\\nafa149e0-edb7-4f8e-9f56-6e1c0ac78287\\tGliomas\\tafa149e0-edb7-4f8e-9f56-6e1c0ac78287\\tBrain\\tHCM-BROD-0106-C71\\r\\n1aad065b-567d-4f08-9cf0-bcc57e8ef496\\tGliomas\\t1aad065b-567d-4f08-9cf0-bcc57e8ef496\\tBrain\\tHCM-BROD-0103-C71\\r\\n87804fe2-1c07-4bcc-80c6-d225e4089ba6\\tNevi and Melanomas\\t87804fe2-1c07-4bcc-80c6-d225e4089ba6\\tSkin\\tHCM-BROD-0223-C43\\r\\ncad9953c-7293-4699-9c47-3e24bc592f9a\\tGliomas\\tcad9953c-7293-4699-9c47-3e24bc592f9a\\tBrain\\tHCM-BROD-0104-C71\\r\\n307c905f-c276-4501-988a-b083f9462a98\\tMiscellaneous Bone Tumors\\t307c905f-c276-4501-988a-b083f9462a98\\tBones, joints and articular cartilage of other and unspecified sites\\tHCM-BROD-0036-C41\\r\\n291bc57c-0163-4dae-8eab-afb756a565e6\\tAdenomas and Adenocarcinomas\\t291bc57c-0163-4dae-8eab-afb756a565e6\\tRectum\\tHCM-SANG-0286-C20\\r\\nfb50c60e-d191-474b-a5eb-19b922db6688\\tDuctal and Lobular Neoplasms\\tfb50c60e-d191-474b-a5eb-19b922db6688\\tPancreas\\tHCM-CSHL-0094-C25\\r\\n03974dc9-0162-4de8-9897-09f88693681a\\tNevi and Melanomas\\t03974dc9-0162-4de8-9897-09f88693681a\\tSkin\\tHCM-BROD-0334-C43\\r\\n54722e41-2feb-4c8a-b29f-3780da916e49\\tAdenomas and Adenocarcinomas\\t54722e41-2feb-4c8a-b29f-3780da916e49\\tColon\\tHCM-SANG-0267-D12\\r\\n844a5119-2fc7-43c5-be14-6285e6c79474\\tAdenomas and Adenocarcinomas\\t844a5119-2fc7-43c5-be14-6285e6c79474\\tStomach\\tHCM-BROD-0045-C16\\r\\ncf4e22e6-18dc-4a1b-a1d3-1c9ceddd232d\\tAdenomas and Adenocarcinomas\\tcf4e22e6-18dc-4a1b-a1d3-1c9ceddd232d\\tPancreas\\tHCM-BROD-0015-C25\\r\\n0251b915-6bf6-43a3-b3a3-aadbac0be13f\\tAdenomas and Adenocarcinomas\\t0251b915-6bf6-43a3-b3a3-aadbac0be13f\\tPancreas\\tHCM-BROD-0204-C25\\r\\n66f2f8d4-f8e2-4bb6-93e1-3edd7c5a3b48\\tDuctal and Lobular Neoplasms\\t66f2f8d4-f8e2-4bb6-93e1-3edd7c5a3b48\\tBreast\\tHCM-CSHL-0655-C50\\r\\na0cac428-0e4d-471f-a3a1-9d3ea026b58e\\tAdenomas and Adenocarcinomas\\ta0cac428-0e4d-471f-a3a1-9d3ea026b58e\\tEsophagus\\tHCM-SANG-0297-C15\\r\\n6397deca-2bff-4c0a-a8c1-1b8c14bddabe\\tAdenomas and Adenocarcinomas\\t6397deca-2bff-4c0a-a8c1-1b8c14bddabe\\tRectum\\tHCM-SANG-0270-C20\\r\\na5d2e190-acdc-4bd9-be42-bd8c17bfa205\\tAdenomas and Adenocarcinomas\\ta5d2e190-acdc-4bd9-be42-bd8c17bfa205\\tRectum\\tHCM-CSHL-0162-C19\\r\\n0cf7d1fe-e9c7-4e84-9497-df13ca2ed2c9\\tAdenomas and Adenocarcinomas\\t0cf7d1fe-e9c7-4e84-9497-df13ca2ed2c9\\tRectum\\tHCM-SANG-0287-C20\\r\\n937294e7-5aab-4d1e-a8ca-1fbb73b0aae8\\tNevi and Melanomas\\t937294e7-5aab-4d1e-a8ca-1fbb73b0aae8\\tSkin\\tHCM-BROD-0561-C43\\r\\nc811d6dd-992f-435a-80ec-b282a2e38aad\\tGliomas\\tc811d6dd-992f-435a-80ec-b282a2e38aad\\tBrain\\tHCM-BROD-0003-C71\\r\\n0a66800c-c5e6-4fc9-ba09-a147107b721c\\tAdenomas and Adenocarcinomas\\t0a66800c-c5e6-4fc9-ba09-a147107b721c\\tStomach\\tHCM-WCMC-0505-C16\\r\\n64a54aa5-ce7c-4002-87f8-3b61f912104a\\tDuctal and Lobular Neoplasms\\t64a54aa5-ce7c-4002-87f8-3b61f912104a\\tPancreas\\tHCM-CSHL-0088-C25\\r\\n2127626f-247f-4c47-b096-a876f08db1a0\\tAdenomas and Adenocarcinomas\\t2127626f-247f-4c47-b096-a876f08db1a0\\tPancreas\\tHCM-SANG-0315-C25\\r\\nc297718c-1d40-439a-a5de-09c5eb5ccea9\\tAdenomas and Adenocarcinomas\\tc297718c-1d40-439a-a5de-09c5eb5ccea9\\tStomach\\tHCM-BROD-0118-C16\\r\\n4c48e9c9-5f8f-43e2-a972-367b260b40eb\\tDuctal and Lobular Neoplasms\\t4c48e9c9-5f8f-43e2-a972-367b260b40eb\\tPancreas\\tHCM-CSHL-0179-C25\\r\\n4b9b3130-2483-4e5d-8c4d-e225590a5cd2\\tGliomas\\t4b9b3130-2483-4e5d-8c4d-e225590a5cd2\\tBrain\\tHCM-BROD-0048-C71\\r\\n7ad830fb-890c-4a3e-b1ac-aa59f23a9333\\tAdenomas and Adenocarcinomas\\t7ad830fb-890c-4a3e-b1ac-aa59f23a9333\\tEsophagus\\tHCM-SANG-0296-C15\\r\\n80bbff05-a62d-49c3-adee-08d992f0ba67\\tAdenomas and Adenocarcinomas\\t80bbff05-a62d-49c3-adee-08d992f0ba67\\tEsophagus\\tHCM-SANG-0289-C15\\r\\nfeaef50b-0e38-4a04-b632-81ae538e1c22\\tAdenomas and Adenocarcinomas\\tfeaef50b-0e38-4a04-b632-81ae538e1c22\\tStomach\\tHCM-BROD-0115-C16\\r\\ncf3e235e-676c-45de-a746-2ea45fd2142f\\tCystic, Mucinous and Serous Neoplasms\\tcf3e235e-676c-45de-a746-2ea45fd2142f\\tColon\\tHCM-SANG-0282-C18\\r\\nf1332ba6-887b-45ec-846b-1180cbfd66b7\\tGliomas\\tf1332ba6-887b-45ec-846b-1180cbfd66b7\\tBrain\\tHCM-BROD-0693-C71\\r\\n97bd888f-4686-4c1d-b663-2920d3bdc7d8\\tAdenomas and Adenocarcinomas\\t97bd888f-4686-4c1d-b663-2920d3bdc7d8\\tEsophagus\\tHCM-BROD-0020-C15\\r\\ne506251d-4072-4479-b2ce-5c75387dc7fc\\tMyomatous Neoplasms\\te506251d-4072-4479-b2ce-5c75387dc7fc\\tBronchus and lung\\tHCM-BROD-0007-C49\\r\\n7fa8bc57-4bc7-48a5-99fe-98ed02fa17e8\\tAdenomas and Adenocarcinomas\\t7fa8bc57-4bc7-48a5-99fe-98ed02fa17e8\\tColon\\tHCM-CSHL-0247-C18\\r\\n7cdc52da-546a-4318-adb8-00ade0a941db\\tAdenomas and Adenocarcinomas\\t7cdc52da-546a-4318-adb8-00ade0a941db\\tPancreas\\tHCM-BROD-0122-C25\\r\\n45f60f6f-3ee8-4da5-b3de-bd5e29b25198\\tAdenomas and Adenocarcinomas\\t45f60f6f-3ee8-4da5-b3de-bd5e29b25198\\tPancreas\\tHCM-BROD-0138-C25\\r\\nce4c2cc5-ddbb-4870-a879-5b98305a9d2d\\tGliomas\\tce4c2cc5-ddbb-4870-a879-5b98305a9d2d\\tBrain\\tHCM-BROD-0574-C71\\r\\n05f41641-ee22-4d41-bb87-2bfa47cd983f\\tAdenomas and Adenocarcinomas\\t05f41641-ee22-4d41-bb87-2bfa47cd983f\\tEsophagus\\tHCM-BROD-0095-C15\\r\\n23443700-fe39-4fd5-862f-ffb02cda3947\\tAdenomas and Adenocarcinomas\\t23443700-fe39-4fd5-862f-ffb02cda3947\\tColon\\tHCM-CSHL-0141-C18\\r\\nddba0c54-930d-4dc4-b74f-48e29961c945\\tDuctal and Lobular Neoplasms\\tddba0c54-930d-4dc4-b74f-48e29961c945\\tPancreas\\tHCM-CSHL-0728-C25\\r\\naaf31083-8293-4e48-92b0-37d294c0cc64\\tAdenomas and Adenocarcinomas\\taaf31083-8293-4e48-92b0-37d294c0cc64\\tEsophagus\\tHCM-SANG-0292-C15\\r\\neb537fd2-ac06-4f63-8c0a-0ca73dd06a3a\\tAdenomas and Adenocarcinomas\\teb537fd2-ac06-4f63-8c0a-0ca73dd06a3a\\tColon\\tHCM-SANG-0283-C18\\r\\n1f080fcb-15c8-452a-a083-05ed83098a52\\tAdenomas and Adenocarcinomas\\t1f080fcb-15c8-452a-a083-05ed83098a52\\tStomach\\tHCM-BROD-0116-C16\\r\\n04cbceab-f945-482b-956b-840756a17a4a\\tGliomas\\t04cbceab-f945-482b-956b-840756a17a4a\\tBrain\\tHCM-BROD-0421-C71\\r\\n1ae8657f-477f-4e1a-aef2-dd1c1ab5f26a\\tCystic, Mucinous and Serous Neoplasms\\t1ae8657f-477f-4e1a-aef2-dd1c1ab5f26a\\tPancreas\\tHCM-BROD-0231-C25\\r\\n5d62edfc-03c7-4545-91b1-9ad3abfcfeb8\\tSoft Tissue Tumors and Sarcomas, NOS\\t5d62edfc-03c7-4545-91b1-9ad3abfcfeb8\\tConnective, subcutaneous and other soft tissues\\tHCM-BROD-0053-C49\\r\\nbc1f75d5-8910-45ee-ae52-0d34ee41ee02\\tAdenomas and Adenocarcinomas\\tbc1f75d5-8910-45ee-ae52-0d34ee41ee02\\tSmall intestine\\tHCM-CSHL-0608-C17\\r\\nf6a13511-0819-4219-bc4b-6cb146629f0e\\tAdenomas and Adenocarcinomas\\tf6a13511-0819-4219-bc4b-6cb146629f0e\\tColon\\tHCM-CSHL-0729-C18\\r\\n864de84d-7936-4bfd-89ff-b552a9d470aa\\tGliomas\\t864de84d-7936-4bfd-89ff-b552a9d470aa\\tBrain\\tHCM-BROD-0420-C71\\r\\n71dd56c3-0048-4ec9-89cb-53b5e966255a\\tNevi and Melanomas\\t71dd56c3-0048-4ec9-89cb-53b5e966255a\\tSkin\\tHCM-BROD-0702-C43\\r\\n8a2452ec-72a0-4efb-84ac-d5af5e613e74\\tAdenomas and Adenocarcinomas\\t8a2452ec-72a0-4efb-84ac-d5af5e613e74\\tEsophagus\\tHCM-BROD-0120-C15\\r\\n22f26b5c-41b7-4142-9d87-6cf8b7fee3af\\tAdenomas and Adenocarcinomas\\t22f26b5c-41b7-4142-9d87-6cf8b7fee3af\\tPancreas\\tHCM-BROD-0229-C25\\r\\nd4850437-8b6e-4b6f-a636-2c0068a14121\\tDuctal and Lobular Neoplasms\\td4850437-8b6e-4b6f-a636-2c0068a14121\\tPancreas\\tHCM-CSHL-0183-C25\\r\\nd7fc5874-8ae0-4357-9d8d-01af39ee521f\\tDuctal and Lobular Neoplasms\\td7fc5874-8ae0-4357-9d8d-01af39ee521f\\tPancreas\\tHCM-CSHL-0092-C25\\r\\nde19bdf6-63b3-4e75-bf11-a7b6ebcea466\\tAdenomas and Adenocarcinomas\\tde19bdf6-63b3-4e75-bf11-a7b6ebcea466\\tColon\\tHCM-CSHL-0317-C18\\r\\n373c15fd-f995-419d-beef-951db2706411\\tDuctal and Lobular Neoplasms\\t373c15fd-f995-419d-beef-951db2706411\\tOther and unspecified parts of biliary tract\\tHCM-CSHL-0085-C24\\r\\n9f4d122a-e88e-433f-85a7-dbc4060ec7b8\\tDuctal and Lobular Neoplasms\\t9f4d122a-e88e-433f-85a7-dbc4060ec7b8\\tPancreas\\tHCM-CSHL-0730-C25\\r\\n0e9a9e97-f0bf-4f4a-84cc-73eccfc627b1\\tAdenomas and Adenocarcinomas\\t0e9a9e97-f0bf-4f4a-84cc-73eccfc627b1\\tColon\\tHCM-CSHL-0376-D37\\r\\n42d1a293-4c3b-496b-92b5-7482c8020751\\tAdenomas and Adenocarcinomas\\t42d1a293-4c3b-496b-92b5-7482c8020751\\tStomach\\tHCM-BROD-0025-C16\\r\\n5c2bff0f-0e8e-4d98-83c5-0d9ab866241a\\tAdenomas and Adenocarcinomas\\t5c2bff0f-0e8e-4d98-83c5-0d9ab866241a\\tPancreas\\tHCM-BROD-0019-C25\\r\\nb3cc0754-6a21-4683-a491-b2fb8b6175a4\\tGliomas\\tb3cc0754-6a21-4683-a491-b2fb8b6175a4\\tBrain\\tHCM-BROD-0613-C71\\r\\n0798bf7a-53f3-4d88-a863-b4fc186bb5b6\\tGliomas\\t0798bf7a-53f3-4d88-a863-b4fc186bb5b6\\tBrain\\tHCM-BROD-0417-C71\\r\\naba4536f-6457-4ec2-90ac-1e0464352d7b\\tAdenomas and Adenocarcinomas\\taba4536f-6457-4ec2-90ac-1e0464352d7b\\tOther and unspecified parts of biliary tract\\tHCM-CSHL-0433-C24\\r\\nb1021eee-f5c8-43a7-aab9-79553bca2265\\tAdenomas and Adenocarcinomas\\tb1021eee-f5c8-43a7-aab9-79553bca2265\\tColon\\tHCM-CSHL-0461-D12\\r\\ncd6f37d5-d192-48b9-a63f-54d8d1e810c6\\tAdenomas and Adenocarcinomas\\tcd6f37d5-d192-48b9-a63f-54d8d1e810c6\\tColon\\tHCM-CSHL-0064-C18\\r\\n0693e8b4-9a8d-4356-9f3f-7da3bf1d202d\\tAdenomas and Adenocarcinomas\\t0693e8b4-9a8d-4356-9f3f-7da3bf1d202d\\tOther and unspecified parts of biliary tract\\tHCM-CSHL-0511-C24\\r\\nee35fde8-183f-48d2-b4ea-460c40445daa\\tDuctal and Lobular Neoplasms\\tee35fde8-183f-48d2-b4ea-460c40445daa\\tPancreas\\tHCM-CSHL-0184-C25\\r\\n0f89e089-4a1d-4e66-8537-502a788cfe75\\tGliomas\\t0f89e089-4a1d-4e66-8537-502a788cfe75\\tBrain\\tHCM-BROD-0012-C71\\r\\n46b1210c-4042-4c67-9e68-06e960f201f2\\tComplex Mixed and Stromal Neoplasms\\t46b1210c-4042-4c67-9e68-06e960f201f2\\tKidney\\tHCM-BROD-0051-C64\\r\\n288f90bf-43fc-40ef-b3fa-40f35ce0007e\\tEpithelial Neoplasms, NOS\\t288f90bf-43fc-40ef-b3fa-40f35ce0007e\\tStomach\\tHCM-BROD-0208-C16\\r\\n359ca5c2-0d00-4b88-be2d-476e6b4c02ef\\tAdenomas and Adenocarcinomas\\t359ca5c2-0d00-4b88-be2d-476e6b4c02ef\\tPancreas\\tHCM-BROD-0016-C25\\r\\na13f7c10-76c8-473a-b87b-8b680706d189\\tAdenomas and Adenocarcinomas\\ta13f7c10-76c8-473a-b87b-8b680706d189\\tColon\\tHCM-SANG-0281-C18\\r\\nb44ee47e-c360-41bf-8e0d-a95dc6f9f9cc\\tGliomas\\tb44ee47e-c360-41bf-8e0d-a95dc6f9f9cc\\tBrain\\tHCM-BROD-0195-C71\\r\\n7a4676bb-3b9f-4e1c-b58f-30f80660df44\\tAdenomas and Adenocarcinomas\\t7a4676bb-3b9f-4e1c-b58f-30f80660df44\\tStomach\\tHCM-BROD-0453-C16\\r\\n77c0c6b9-2d22-404f-91da-3f588a9174ab\\tAdenomas and Adenocarcinomas\\t77c0c6b9-2d22-404f-91da-3f588a9174ab\\tRectum\\tHCM-CSHL-0143-C20\\r\\nfdc29b73-d788-40f4-8f8d-cef36d100e58\\tAdenomas and Adenocarcinomas\\tfdc29b73-d788-40f4-8f8d-cef36d100e58\\tRectum\\tHCM-SANG-0278-C20\\r\\nf78051ab-be5e-4d77-953f-df15762e9834\\tNevi and Melanomas\\tf78051ab-be5e-4d77-953f-df15762e9834\\tSkin\\tHCM-BROD-0481-C43\\r\\n6e3a1f73-d16b-4dc8-acc2-ae452eec1bbd\\tDuctal and Lobular Neoplasms\\t6e3a1f73-d16b-4dc8-acc2-ae452eec1bbd\\tPancreas\\tHCM-CSHL-0405-C25\\r\\nd585a79e-19e2-4829-9e3f-80b74d65b243\\tAdenomas and Adenocarcinomas\\td585a79e-19e2-4829-9e3f-80b74d65b243\\tEsophagus\\tHCM-BROD-0194-C15\\r\\n0df0db7a-b473-4643-9caf-a7c272c54c29\\tAdenomas and Adenocarcinomas\\t0df0db7a-b473-4643-9caf-a7c272c54c29\\tRectosigmoid junction\\tHCM-CSHL-0248-C19\\r\\n'\n"
          ]
        }
      ]
    },
    {
      "cell_type": "markdown",
      "source": [
        "a filters parameter is added to the script. This parameter is passed as a Python dictionary object. The filter used in this example will only display cases that come from a neural disease study (primary_site: Brain)"
      ],
      "metadata": {
        "id": "ZXjhz0iCLHR8"
      }
    },
    {
      "cell_type": "code",
      "source": [
        "fields = [\n",
        "    \"submitter_id\",\n",
        "    \"case_id\",\n",
        "    \"primary_site\",\n",
        "    \"disease_type\",\n",
        "    \"diagnoses.vital_status\"\n",
        "    ]\n",
        "\n",
        "fields = \",\".join(fields)\n",
        "\n",
        "cases_endpt = \"https://api.gdc.cancer.gov/cases\"\n",
        "\n",
        "filters = {\n",
        "    \"op\": \"in\",\n",
        "    \"content\":{\n",
        "        \"field\": \"primary_site\",\n",
        "        \"value\": [\"Brain\"]\n",
        "        }\n",
        "    }\n",
        "\n",
        "# With a GET request, the filters parameter needs to be converted\n",
        "# from a dictionary to JSON-formatted string\n",
        "\n",
        "params = {\n",
        "    \"filters\": json.dumps(filters),\n",
        "    \"fields\": fields,\n",
        "    \"format\": \"TSV\",\n",
        "    \"size\": \"100\"\n",
        "    }\n",
        "\n",
        "response = requests.get(cases_endpt, params = params)\n",
        "\n",
        "print(response.content)"
      ],
      "metadata": {
        "colab": {
          "base_uri": "https://localhost:8080/"
        },
        "id": "1lbSSlykLLl5",
        "outputId": "31278912-8f2c-4300-b38e-9d037e98f788"
      },
      "execution_count": 4,
      "outputs": [
        {
          "output_type": "stream",
          "name": "stdout",
          "text": [
            "b'case_id\\tdisease_type\\tid\\tprimary_site\\tsubmitter_id\\r\\n69eced5b-1e76-45c9-bc9c-2aa71a921c57\\tGliomas\\t69eced5b-1e76-45c9-bc9c-2aa71a921c57\\tBrain\\tHCM-BROD-0011-C71\\r\\nd420e653-3fb2-432b-9e81-81232a80264d\\tGliomas\\td420e653-3fb2-432b-9e81-81232a80264d\\tBrain\\tHCM-BROD-0210-C71\\r\\n149a8565-e0c5-4474-a693-d44f1b445c0c\\tGliomas\\t149a8565-e0c5-4474-a693-d44f1b445c0c\\tBrain\\tHCM-BROD-0199-C71\\r\\n5c5ef9c4-5896-4553-bbbd-afe4e4b52a6a\\tGliomas\\t5c5ef9c4-5896-4553-bbbd-afe4e4b52a6a\\tBrain\\tHCM-BROD-0214-C71\\r\\n2c636721-d11e-463e-8f77-a23501dd3d60\\tGliomas\\t2c636721-d11e-463e-8f77-a23501dd3d60\\tBrain\\tHCM-BROD-0209-C71\\r\\nafa149e0-edb7-4f8e-9f56-6e1c0ac78287\\tGliomas\\tafa149e0-edb7-4f8e-9f56-6e1c0ac78287\\tBrain\\tHCM-BROD-0106-C71\\r\\n1aad065b-567d-4f08-9cf0-bcc57e8ef496\\tGliomas\\t1aad065b-567d-4f08-9cf0-bcc57e8ef496\\tBrain\\tHCM-BROD-0103-C71\\r\\ncad9953c-7293-4699-9c47-3e24bc592f9a\\tGliomas\\tcad9953c-7293-4699-9c47-3e24bc592f9a\\tBrain\\tHCM-BROD-0104-C71\\r\\nc811d6dd-992f-435a-80ec-b282a2e38aad\\tGliomas\\tc811d6dd-992f-435a-80ec-b282a2e38aad\\tBrain\\tHCM-BROD-0003-C71\\r\\n4b9b3130-2483-4e5d-8c4d-e225590a5cd2\\tGliomas\\t4b9b3130-2483-4e5d-8c4d-e225590a5cd2\\tBrain\\tHCM-BROD-0048-C71\\r\\nf1332ba6-887b-45ec-846b-1180cbfd66b7\\tGliomas\\tf1332ba6-887b-45ec-846b-1180cbfd66b7\\tBrain\\tHCM-BROD-0693-C71\\r\\nce4c2cc5-ddbb-4870-a879-5b98305a9d2d\\tGliomas\\tce4c2cc5-ddbb-4870-a879-5b98305a9d2d\\tBrain\\tHCM-BROD-0574-C71\\r\\n04cbceab-f945-482b-956b-840756a17a4a\\tGliomas\\t04cbceab-f945-482b-956b-840756a17a4a\\tBrain\\tHCM-BROD-0421-C71\\r\\n864de84d-7936-4bfd-89ff-b552a9d470aa\\tGliomas\\t864de84d-7936-4bfd-89ff-b552a9d470aa\\tBrain\\tHCM-BROD-0420-C71\\r\\nb3cc0754-6a21-4683-a491-b2fb8b6175a4\\tGliomas\\tb3cc0754-6a21-4683-a491-b2fb8b6175a4\\tBrain\\tHCM-BROD-0613-C71\\r\\n0798bf7a-53f3-4d88-a863-b4fc186bb5b6\\tGliomas\\t0798bf7a-53f3-4d88-a863-b4fc186bb5b6\\tBrain\\tHCM-BROD-0417-C71\\r\\n0f89e089-4a1d-4e66-8537-502a788cfe75\\tGliomas\\t0f89e089-4a1d-4e66-8537-502a788cfe75\\tBrain\\tHCM-BROD-0012-C71\\r\\nb44ee47e-c360-41bf-8e0d-a95dc6f9f9cc\\tGliomas\\tb44ee47e-c360-41bf-8e0d-a95dc6f9f9cc\\tBrain\\tHCM-BROD-0195-C71\\r\\nf0ee7109-8e30-4789-b071-cd80bec493a3\\tGliomas\\tf0ee7109-8e30-4789-b071-cd80bec493a3\\tBrain\\tHCM-BROD-0419-C71\\r\\n6375cc59-6cd1-4b1e-8de1-510841c3bebd\\tGliomas\\t6375cc59-6cd1-4b1e-8de1-510841c3bebd\\tBrain\\tHCM-BROD-0028-C71\\r\\n08b22310-e8dd-4638-8c5b-dea48328450e\\tGliomas\\t08b22310-e8dd-4638-8c5b-dea48328450e\\tBrain\\tHCM-BROD-0213-C71\\r\\nbabbc3cb-14b7-4894-b91d-c160f4cb48e0\\tGliomas\\tbabbc3cb-14b7-4894-b91d-c160f4cb48e0\\tBrain\\tHCM-BROD-0047-C71\\r\\na42da11c-f1c5-4641-98f4-535c675d43d5\\tGliomas\\ta42da11c-f1c5-4641-98f4-535c675d43d5\\tBrain\\tHCM-BROD-0415-C71\\r\\nb5160217-33c3-47cd-8540-44ca283c8464\\tGliomas\\tb5160217-33c3-47cd-8540-44ca283c8464\\tBrain\\tHCM-BROD-0029-C71\\r\\n88335768-5a27-4b29-b3bc-72e53b87015b\\tGliomas\\t88335768-5a27-4b29-b3bc-72e53b87015b\\tBrain\\tHCM-BROD-0102-C71\\r\\n3092d72b-75b1-4ae2-ac38-d4c1cd377e4c\\tGliomas\\t3092d72b-75b1-4ae2-ac38-d4c1cd377e4c\\tBrain\\tHCM-BROD-0002-C71\\r\\n51b83c83-b639-424b-a023-fd5fe7c2f4b5\\tGliomas\\t51b83c83-b639-424b-a023-fd5fe7c2f4b5\\tBrain\\tHCM-BROD-0196-C71\\r\\n5e5684d2-14b0-4823-9956-d69aea6d6beb\\tGliomas\\t5e5684d2-14b0-4823-9956-d69aea6d6beb\\tBrain\\tHCM-BROD-0014-C71\\r\\n02f6d684-b6b5-419a-b0e1-b74d0a384a30\\tGliomas\\t02f6d684-b6b5-419a-b0e1-b74d0a384a30\\tBrain\\tHCM-BROD-0408-C71\\r\\n881496db-88ed-4d7c-a5e7-614da6977c10\\tGliomas\\t881496db-88ed-4d7c-a5e7-614da6977c10\\tBrain\\tHCM-BROD-0455-C71\\r\\naa17554b-2291-4947-9858-eadb82704f9b\\tGliomas\\taa17554b-2291-4947-9858-eadb82704f9b\\tBrain\\tHCM-BROD-0416-C71\\r\\n19252fcc-76e8-4072-aebe-ce8845771090\\tGliomas\\t19252fcc-76e8-4072-aebe-ce8845771090\\tBrain\\tHCM-BROD-0564-C71\\r\\nbe408fe2-5f92-4593-9b1d-190a4d46f9f8\\tGliomas\\tbe408fe2-5f92-4593-9b1d-190a4d46f9f8\\tBrain\\tHCM-BROD-0200-C71\\r\\nf21ba837-795e-4032-9c2d-5ff557e4a439\\tGliomas\\tf21ba837-795e-4032-9c2d-5ff557e4a439\\tBrain\\tHCM-BROD-0198-C71\\r\\n39aa41b3-af16-4ac0-aaab-49baf567e77c\\tGliomas\\t39aa41b3-af16-4ac0-aaab-49baf567e77c\\tBrain\\tHCM-BROD-0614-C71\\r\\n04ba3395-30c3-4e6e-964a-fe9f82dd8a97\\tGliomas\\t04ba3395-30c3-4e6e-964a-fe9f82dd8a97\\tBrain\\tHCM-BROD-0761-C71\\r\\n18eab58c-ac14-4f6a-a30a-2c05134a2a46\\tGliomas\\t18eab58c-ac14-4f6a-a30a-2c05134a2a46\\tBrain\\tHCM-BROD-0829-C71\\r\\n1ef1165f-72e5-43eb-ba3a-9886aa1f2fc4\\tGliomas\\t1ef1165f-72e5-43eb-ba3a-9886aa1f2fc4\\tBrain\\tHCM-BROD-0783-C71\\r\\n50d99ee7-b965-4211-9a4e-b857f4775208\\tGliomas\\t50d99ee7-b965-4211-9a4e-b857f4775208\\tBrain\\tHCM-BROD-0685-C71\\r\\n5ec86383-f228-4987-a10a-214a603932f8\\tGliomas\\t5ec86383-f228-4987-a10a-214a603932f8\\tBrain\\tHCM-BROD-0611-C71\\r\\n711f0482-0800-4f18-962f-1d35f9d30727\\tGliomas\\t711f0482-0800-4f18-962f-1d35f9d30727\\tBrain\\tHCM-BROD-0781-C71\\r\\n7da47919-73f4-4e05-a5f5-16aa5cd243bf\\tGliomas\\t7da47919-73f4-4e05-a5f5-16aa5cd243bf\\tBrain\\tHCM-BROD-0676-C71\\r\\n816e3eb6-1d9c-4f79-b672-c76b3af02d1c\\tGliomas\\t816e3eb6-1d9c-4f79-b672-c76b3af02d1c\\tBrain\\tHCM-BROD-0681-C71\\r\\n85f48da8-16cc-4e6f-9f1b-2eaed60f93d8\\tGliomas\\t85f48da8-16cc-4e6f-9f1b-2eaed60f93d8\\tBrain\\tHCM-BROD-0830-C71\\r\\ncf7c73f3-b680-496d-94e5-22951ef84b79\\tGliomas\\tcf7c73f3-b680-496d-94e5-22951ef84b79\\tBrain\\tHCM-BROD-0648-C71\\r\\nf12fbecd-c941-47c2-b69c-4d07b81e0394\\tGliomas\\tf12fbecd-c941-47c2-b69c-4d07b81e0394\\tBrain\\tHCM-BROD-0831-C71\\r\\n25ff86af-beb4-480c-b706-f3fe0306f7cf\\tMature B-Cell Lymphomas\\t25ff86af-beb4-480c-b706-f3fe0306f7cf\\tBrain\\tTCGA-RQ-A68N\\r\\n4dd86ebd-ef16-4b2b-9ea0-5d1d7afef257\\tMature B-Cell Lymphomas\\t4dd86ebd-ef16-4b2b-9ea0-5d1d7afef257\\tBrain\\tTCGA-RQ-AAAT\\r\\n2cf49bac-dea1-45ff-9e1d-09f5a2ac5215\\tGliomas\\t2cf49bac-dea1-45ff-9e1d-09f5a2ac5215\\tBrain\\tTCGA-DH-5141\\r\\n183dd089-e932-4be2-b252-0e8572e7da4e\\tGliomas\\t183dd089-e932-4be2-b252-0e8572e7da4e\\tBrain\\tTCGA-HT-7483\\r\\n1f33aebc-edc1-42c5-baa9-e4b0a06fcb26\\tGliomas\\t1f33aebc-edc1-42c5-baa9-e4b0a06fcb26\\tBrain\\tTCGA-P5-A5EY\\r\\ncb598780-9e42-4167-b487-eec90ad4f36f\\tGliomas\\tcb598780-9e42-4167-b487-eec90ad4f36f\\tBrain\\tTCGA-DU-7011\\r\\ndc7ec60b-5ea5-48a4-8908-55caf9214272\\tGliomas\\tdc7ec60b-5ea5-48a4-8908-55caf9214272\\tBrain\\tTCGA-R8-A73M\\r\\n60b30a95-3e4c-413a-9de6-16a5bca163c4\\tGliomas\\t60b30a95-3e4c-413a-9de6-16a5bca163c4\\tBrain\\tTCGA-CS-6670\\r\\nb7cd3b44-ef6a-4207-a44f-14f5b3b56ed4\\tGliomas\\tb7cd3b44-ef6a-4207-a44f-14f5b3b56ed4\\tBrain\\tTCGA-DB-5270\\r\\na0b7c7c8-a6f2-41ba-9e61-9b7f8fbbbe1f\\tGliomas\\ta0b7c7c8-a6f2-41ba-9e61-9b7f8fbbbe1f\\tBrain\\tTCGA-IK-8125\\r\\nc16d9f69-26f9-4ec7-b2d5-ff9f7dacfe0f\\tGliomas\\tc16d9f69-26f9-4ec7-b2d5-ff9f7dacfe0f\\tBrain\\tTCGA-CS-6665\\r\\ne09f93e1-1649-48fa-9e2e-d13ac6d50b97\\tGliomas\\te09f93e1-1649-48fa-9e2e-d13ac6d50b97\\tBrain\\tTCGA-FG-5962\\r\\na144e4e4-2877-4340-a2bf-524adbde8bc8\\tGliomas\\ta144e4e4-2877-4340-a2bf-524adbde8bc8\\tBrain\\tTCGA-DU-7300\\r\\n5119aceb-ad95-4904-b6c0-a0a4b42c17d0\\tGliomas\\t5119aceb-ad95-4904-b6c0-a0a4b42c17d0\\tBrain\\tTCGA-R8-A6ML\\r\\n0df37550-9421-4571-9844-51b457d7cb2b\\tGliomas\\t0df37550-9421-4571-9844-51b457d7cb2b\\tBrain\\tTCGA-FG-8187\\r\\nc13bac88-c85b-4ee3-a51c-fd503cd7e726\\tGliomas\\tc13bac88-c85b-4ee3-a51c-fd503cd7e726\\tBrain\\tTCGA-HT-A619\\r\\n019c5de9-74fd-48b7-95a3-227532e16c5a\\tGliomas\\t019c5de9-74fd-48b7-95a3-227532e16c5a\\tBrain\\tTCGA-HT-7604\\r\\nc3c41fd2-f0d7-4f46-9e18-cce4626538c2\\tGliomas\\tc3c41fd2-f0d7-4f46-9e18-cce4626538c2\\tBrain\\tTCGA-HW-7490\\r\\nf5416dc4-d161-4776-9827-e4ceaf42d19f\\tGliomas\\tf5416dc4-d161-4776-9827-e4ceaf42d19f\\tBrain\\tTCGA-TM-A7C4\\r\\n912d6455-0a50-4fde-b785-f6c09b00b7e4\\tGliomas\\t912d6455-0a50-4fde-b785-f6c09b00b7e4\\tBrain\\tTCGA-HT-7882\\r\\nde6f01bf-2de9-4d07-a956-e6a4c0acb371\\tGliomas\\tde6f01bf-2de9-4d07-a956-e6a4c0acb371\\tBrain\\tTCGA-WY-A859\\r\\na5d3f3fb-6541-419d-b47e-720d438f1bff\\tGliomas\\ta5d3f3fb-6541-419d-b47e-720d438f1bff\\tBrain\\tTCGA-CS-6668\\r\\ne661e157-c6bc-4024-9905-97954759aad6\\tGliomas\\te661e157-c6bc-4024-9905-97954759aad6\\tBrain\\tTCGA-P5-A780\\r\\nfcf14e9d-4671-453d-b8e0-5008e916f56d\\tGliomas\\tfcf14e9d-4671-453d-b8e0-5008e916f56d\\tBrain\\tTCGA-TM-A84Q\\r\\n98e82e98-341a-4bca-92c0-23c65c1bf94f\\tGliomas\\t98e82e98-341a-4bca-92c0-23c65c1bf94f\\tBrain\\tTCGA-FG-A70Z\\r\\nc371e2b4-209f-40f3-a30c-51df8270b5de\\tGliomas\\tc371e2b4-209f-40f3-a30c-51df8270b5de\\tBrain\\tTCGA-HT-7873\\r\\n5e2539e0-2088-43df-ad2a-f854d8bb6d30\\tGliomas\\t5e2539e0-2088-43df-ad2a-f854d8bb6d30\\tBrain\\tTCGA-E1-A7YS\\r\\n992452ee-8d9f-406b-9708-7bcb60062743\\tGliomas\\t992452ee-8d9f-406b-9708-7bcb60062743\\tBrain\\tTCGA-E1-A7YO\\r\\n275cb949-2f61-48c9-84f0-ba8ae4fa35c4\\tGliomas\\t275cb949-2f61-48c9-84f0-ba8ae4fa35c4\\tBrain\\tTCGA-HT-7881\\r\\n0536f465-1650-4411-823c-c660bc7f3adc\\tGliomas\\t0536f465-1650-4411-823c-c660bc7f3adc\\tBrain\\tTCGA-DB-A64O\\r\\n68f550ca-3a33-45e4-b1c9-14f99e543263\\tGliomas\\t68f550ca-3a33-45e4-b1c9-14f99e543263\\tBrain\\tTCGA-FG-5963\\r\\n62088274-a45b-4616-b086-b0ddd64895f0\\tGliomas\\t62088274-a45b-4616-b086-b0ddd64895f0\\tBrain\\tTCGA-QH-A6XC\\r\\n63f4aa26-dec0-4309-8b75-6446a7241527\\tGliomas\\t63f4aa26-dec0-4309-8b75-6446a7241527\\tBrain\\tTCGA-TM-A84G\\r\\n1ca2e1b3-e3eb-4740-a69a-800e3eb60787\\tGliomas\\t1ca2e1b3-e3eb-4740-a69a-800e3eb60787\\tBrain\\tTCGA-QH-A6X9\\r\\nd61710c1-8ac3-44e3-b567-66288a6ab731\\tGliomas\\td61710c1-8ac3-44e3-b567-66288a6ab731\\tBrain\\tTCGA-DU-7304\\r\\n72aa812d-5daa-4bd7-9028-ec541b1f25bd\\tGliomas\\t72aa812d-5daa-4bd7-9028-ec541b1f25bd\\tBrain\\tTCGA-HT-7474\\r\\nda40e6d3-a2a9-4517-aaa2-aef6c3892ebf\\tGliomas\\tda40e6d3-a2a9-4517-aaa2-aef6c3892ebf\\tBrain\\tTCGA-DH-A66G\\r\\n71ec4c84-4aef-4c1f-ab07-dc264c5c0602\\tGliomas\\t71ec4c84-4aef-4c1f-ab07-dc264c5c0602\\tBrain\\tTCGA-TM-A84I\\r\\n40343ebd-0d62-401e-83a4-6cdb57662ec0\\tGliomas\\t40343ebd-0d62-401e-83a4-6cdb57662ec0\\tBrain\\tTCGA-HT-7855\\r\\n9ee6e821-3af2-42d7-9d14-f0ca455f338c\\tGliomas\\t9ee6e821-3af2-42d7-9d14-f0ca455f338c\\tBrain\\tTCGA-CS-6186\\r\\n732df38e-d32c-4d63-ac97-ad655e2e5732\\tGliomas\\t732df38e-d32c-4d63-ac97-ad655e2e5732\\tBrain\\tTCGA-W9-A837\\r\\n6a0bcf0c-fa4c-4119-99d2-f722b781d20f\\tGliomas\\t6a0bcf0c-fa4c-4119-99d2-f722b781d20f\\tBrain\\tTCGA-FG-8182\\r\\nbae316e3-1fa4-4fa7-8ad6-a458857a85d4\\tGliomas\\tbae316e3-1fa4-4fa7-8ad6-a458857a85d4\\tBrain\\tTCGA-HT-8106\\r\\nb60fce04-9779-42c0-8161-d29d8a1d7c64\\tGliomas\\tb60fce04-9779-42c0-8161-d29d8a1d7c64\\tBrain\\tTCGA-QH-A6X3\\r\\n84569c1a-6baa-4380-ae3c-707df1be4618\\tGliomas\\t84569c1a-6baa-4380-ae3c-707df1be4618\\tBrain\\tTCGA-E1-5319\\r\\ndd7b23a7-b41b-4670-9fc8-78895fb00cff\\tGliomas\\tdd7b23a7-b41b-4670-9fc8-78895fb00cff\\tBrain\\tTCGA-HT-8563\\r\\nae2db022-eb4f-4b65-89b6-9fd4439ddeef\\tGliomas\\tae2db022-eb4f-4b65-89b6-9fd4439ddeef\\tBrain\\tTCGA-DB-5273\\r\\n0efaf8f9-177c-4ffb-b03f-f0316adf5dc1\\tGliomas\\t0efaf8f9-177c-4ffb-b03f-f0316adf5dc1\\tBrain\\tTCGA-DU-A7TI\\r\\n3e4851ca-4d69-4035-a2dd-8ed6e70f1ffb\\tGliomas\\t3e4851ca-4d69-4035-a2dd-8ed6e70f1ffb\\tBrain\\tTCGA-S9-A6WD\\r\\n723cad09-aa2d-4492-b19d-661b310e1c58\\tGliomas\\t723cad09-aa2d-4492-b19d-661b310e1c58\\tBrain\\tTCGA-HT-A74O\\r\\n878ced76-3144-4141-896f-50e3e863df36\\tGliomas\\t878ced76-3144-4141-896f-50e3e863df36\\tBrain\\tTCGA-P5-A77X\\r\\n2cfc07f3-a31c-41a2-a9e3-b708d2421a78\\tGliomas\\t2cfc07f3-a31c-41a2-a9e3-b708d2421a78\\tBrain\\tTCGA-FG-5965\\r\\ncb1e9916-c03f-405a-a797-15823df09c8e\\tGliomas\\tcb1e9916-c03f-405a-a797-15823df09c8e\\tBrain\\tTCGA-DH-A66B\\r\\n5b9d7565-a933-449d-8ffa-ec5f82db2e77\\tGliomas\\t5b9d7565-a933-449d-8ffa-ec5f82db2e77\\tBrain\\tTCGA-FN-7833\\r\\n'\n"
          ]
        }
      ]
    }
  ]
}